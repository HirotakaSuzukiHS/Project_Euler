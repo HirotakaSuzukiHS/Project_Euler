{
 "cells": [
  {
   "cell_type": "code",
   "execution_count": 1,
   "metadata": {},
   "outputs": [
    {
     "name": "stdout",
     "output_type": "stream",
     "text": [
      "25164150\n"
     ]
    }
   ],
   "source": [
    "#Problem 6\n",
    "#最初の100個の自然数について二乗の和と和の二乗の差を求めよ\n",
    "a = 0\n",
    "for i in range(1,100 + 1):\n",
    "    a = a + i ** 2\n",
    "\n",
    "b = 0\n",
    "for i in range(1,100 + 1):\n",
    "    b = b + i\n",
    "print(b ** 2 - a)"
   ]
  }
 ],
 "metadata": {
  "kernelspec": {
   "display_name": "Python 3",
   "language": "python",
   "name": "python3"
  },
  "language_info": {
   "codemirror_mode": {
    "name": "ipython",
    "version": 3
   },
   "file_extension": ".py",
   "mimetype": "text/x-python",
   "name": "python",
   "nbconvert_exporter": "python",
   "pygments_lexer": "ipython3",
   "version": "3.6.5"
  }
 },
 "nbformat": 4,
 "nbformat_minor": 2
}

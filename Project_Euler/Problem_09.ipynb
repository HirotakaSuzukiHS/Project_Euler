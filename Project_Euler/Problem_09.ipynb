{
 "cells": [
  {
   "cell_type": "code",
   "execution_count": null,
   "metadata": {},
   "outputs": [],
   "source": [
    "#Problem 9\n",
    "#a + b + c = 1000となるピタゴラスの三つ組の積abc\n",
    "for c in range(1,500):\n",
    "    for b in range(1,500):\n",
    "        if c > b and c + b < 1000:\n",
    "            a = 1000 - b - c\n",
    "            if (a ** 2) + (b ** 2) == c ** 2:\n",
    "                x = a * b * c\n",
    "                ans_a = a\n",
    "                ans_b = b\n",
    "                ans_c = c\n",
    "print(ans_a)\n",
    "print(ans_b)\n",
    "print(ans_c)\n",
    "print('abc=',x)"
   ]
  }
 ],
 "metadata": {
  "kernelspec": {
   "display_name": "Python 3",
   "language": "python",
   "name": "python3"
  },
  "language_info": {
   "codemirror_mode": {
    "name": "ipython",
    "version": 3
   },
   "file_extension": ".py",
   "mimetype": "text/x-python",
   "name": "python",
   "nbconvert_exporter": "python",
   "pygments_lexer": "ipython3",
   "version": "3.6.5"
  }
 },
 "nbformat": 4,
 "nbformat_minor": 2
}

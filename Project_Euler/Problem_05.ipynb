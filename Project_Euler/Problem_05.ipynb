{
 "cells": [
  {
   "cell_type": "code",
   "execution_count": 1,
   "metadata": {},
   "outputs": [
    {
     "name": "stdout",
     "output_type": "stream",
     "text": [
      "232792560\n"
     ]
    }
   ],
   "source": [
    "#Problem 5\n",
    "#1 から 20 までの整数全てで割り切れる数字の中で最小の正の数\n",
    "import math as m\n",
    "def lcm(a,b):\n",
    "        x = a * b / m.gcd(a,b)\n",
    "        return int(x)\n",
    "\n",
    "a = lcm(1,2)\n",
    "for i in range(3,20 + 1):\n",
    "    a = lcm(a,i)\n",
    "print(a)"
   ]
  }
 ],
 "metadata": {
  "kernelspec": {
   "display_name": "Python 3",
   "language": "python",
   "name": "python3"
  },
  "language_info": {
   "codemirror_mode": {
    "name": "ipython",
    "version": 3
   },
   "file_extension": ".py",
   "mimetype": "text/x-python",
   "name": "python",
   "nbconvert_exporter": "python",
   "pygments_lexer": "ipython3",
   "version": "3.6.5"
  }
 },
 "nbformat": 4,
 "nbformat_minor": 2
}

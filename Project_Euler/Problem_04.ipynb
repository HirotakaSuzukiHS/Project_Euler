{
 "cells": [
  {
   "cell_type": "code",
   "execution_count": 1,
   "metadata": {},
   "outputs": [
    {
     "name": "stdout",
     "output_type": "stream",
     "text": [
      "906609\n"
     ]
    }
   ],
   "source": [
    "#Problem 4\n",
    "#3桁の数の積で表される回文数の最大値を求めよ\n",
    "y = 0\n",
    "for i in range(101,999 + 1):\n",
    "    for j in range(101,999 + 1):\n",
    "        x = i * j\n",
    "        #3ケタ×3ケタの最大値は998,001‬なので6ケタ内に回文があると仮定\n",
    "        if x >= 100000:\n",
    "            a = x // 100000\n",
    "            b = (x - a * 100000) // 10000\n",
    "            c = (x - a * 100000 - b * 10000) // 1000\n",
    "            d = (x - a * 100000 - b * 10000 - c * 1000) // 100\n",
    "            e = (x - a * 100000 - b * 10000 - c * 1000 - d * 100) // 10\n",
    "            f = (x - a * 100000 - b * 10000 - c * 1000 - d * 100 - e * 10)\n",
    "            \n",
    "            if (a == f) and (b == e) and (c == d) and x > y:\n",
    "                y = x\n",
    "print(y)"
   ]
  }
 ],
 "metadata": {
  "kernelspec": {
   "display_name": "Python 3",
   "language": "python",
   "name": "python3"
  },
  "language_info": {
   "codemirror_mode": {
    "name": "ipython",
    "version": 3
   },
   "file_extension": ".py",
   "mimetype": "text/x-python",
   "name": "python",
   "nbconvert_exporter": "python",
   "pygments_lexer": "ipython3",
   "version": "3.6.5"
  }
 },
 "nbformat": 4,
 "nbformat_minor": 2
}

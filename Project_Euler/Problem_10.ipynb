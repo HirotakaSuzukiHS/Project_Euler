{
 "cells": [
  {
   "cell_type": "code",
   "execution_count": null,
   "metadata": {},
   "outputs": [],
   "source": [
    "#Problem 10\n",
    "#200万以下の全ての素数の和を求めよ。\n",
    "\n",
    "#n = 10\n",
    "n = 2000000\n",
    "\n",
    "def sosu(r):\n",
    "    y = 0\n",
    "    a = 0\n",
    "    for i in range(r + 1):\n",
    "        x = 0\n",
    "        for j in range(i):\n",
    "            if i != 0 and j != 0 and i % j == 0:\n",
    "                x += 1\n",
    "        if x == 1:\n",
    "            y = i\n",
    "            a = a + y\n",
    "    return int(a)\n",
    "\n",
    "print(sosu(n - 1))"
   ]
  }
 ],
 "metadata": {
  "kernelspec": {
   "display_name": "Python 3",
   "language": "python",
   "name": "python3"
  },
  "language_info": {
   "codemirror_mode": {
    "name": "ipython",
    "version": 3
   },
   "file_extension": ".py",
   "mimetype": "text/x-python",
   "name": "python",
   "nbconvert_exporter": "python",
   "pygments_lexer": "ipython3",
   "version": "3.6.5"
  }
 },
 "nbformat": 4,
 "nbformat_minor": 2
}

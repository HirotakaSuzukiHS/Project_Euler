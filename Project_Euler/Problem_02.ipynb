{
 "cells": [
  {
   "cell_type": "code",
   "execution_count": null,
   "metadata": {},
   "outputs": [],
   "source": [
    "#Problem 2\n",
    "#数列の項の値が400万以下の, フィボナッチ数列の偶数値の項の総和を求めよ.\n",
    "a = 1\n",
    "b = 2\n",
    "x = 0\n",
    "for i in range(4000000-2):\n",
    "    c = a + b\n",
    "    a = b\n",
    "    b = c\n",
    "    if c % 2 == 0:\n",
    "        x = x + c\n",
    "print(x)"
   ]
  }
 ],
 "metadata": {
  "kernelspec": {
   "display_name": "Python 3",
   "language": "python",
   "name": "python3"
  },
  "language_info": {
   "codemirror_mode": {
    "name": "ipython",
    "version": 3
   },
   "file_extension": ".py",
   "mimetype": "text/x-python",
   "name": "python",
   "nbconvert_exporter": "python",
   "pygments_lexer": "ipython3",
   "version": "3.6.5"
  }
 },
 "nbformat": 4,
 "nbformat_minor": 2
}
